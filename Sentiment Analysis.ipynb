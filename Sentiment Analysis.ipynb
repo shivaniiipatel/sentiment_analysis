{
 "cells": [
  {
   "cell_type": "code",
   "execution_count": 3,
   "id": "ca496434",
   "metadata": {},
   "outputs": [],
   "source": [
    "import pandas as pd\n",
    "import numpy as np\n",
    "\n",
    "# Visualization\n",
    "import matplotlib.pyplot as plt\n",
    "import seaborn as sns\n",
    "\n",
    "from sklearn.feature_extraction.text import CountVectorizer\n",
    "from sklearn.model_selection import train_test_split\n",
    "from sklearn.linear_model import LogisticRegression\n",
    "from sklearn.metrics import accuracy_score\n",
    "\n",
    "from sklearn.feature_extraction.text import TfidfVectorizer"
   ]
  },
  {
   "cell_type": "code",
   "execution_count": 4,
   "id": "87f12f7f",
   "metadata": {},
   "outputs": [],
   "source": [
    "import warnings\n",
    "warnings.filterwarnings('ignore')"
   ]
  },
  {
   "cell_type": "code",
   "execution_count": 5,
   "id": "f2db7b7a",
   "metadata": {},
   "outputs": [
    {
     "data": {
      "text/html": [
       "<div>\n",
       "<style scoped>\n",
       "    .dataframe tbody tr th:only-of-type {\n",
       "        vertical-align: middle;\n",
       "    }\n",
       "\n",
       "    .dataframe tbody tr th {\n",
       "        vertical-align: top;\n",
       "    }\n",
       "\n",
       "    .dataframe thead th {\n",
       "        text-align: right;\n",
       "    }\n",
       "</style>\n",
       "<table border=\"1\" class=\"dataframe\">\n",
       "  <thead>\n",
       "    <tr style=\"text-align: right;\">\n",
       "      <th></th>\n",
       "      <th>review</th>\n",
       "      <th>sentiment</th>\n",
       "    </tr>\n",
       "  </thead>\n",
       "  <tbody>\n",
       "    <tr>\n",
       "      <th>0</th>\n",
       "      <td>One of the other reviewers has mentioned that ...</td>\n",
       "      <td>positive</td>\n",
       "    </tr>\n",
       "    <tr>\n",
       "      <th>1</th>\n",
       "      <td>A wonderful little production. &lt;br /&gt;&lt;br /&gt;The...</td>\n",
       "      <td>positive</td>\n",
       "    </tr>\n",
       "    <tr>\n",
       "      <th>2</th>\n",
       "      <td>I thought this was a wonderful way to spend ti...</td>\n",
       "      <td>positive</td>\n",
       "    </tr>\n",
       "    <tr>\n",
       "      <th>3</th>\n",
       "      <td>Basically there's a family where a little boy ...</td>\n",
       "      <td>negative</td>\n",
       "    </tr>\n",
       "    <tr>\n",
       "      <th>4</th>\n",
       "      <td>Petter Mattei's \"Love in the Time of Money\" is...</td>\n",
       "      <td>positive</td>\n",
       "    </tr>\n",
       "    <tr>\n",
       "      <th>5</th>\n",
       "      <td>Probably my all-time favorite movie, a story o...</td>\n",
       "      <td>positive</td>\n",
       "    </tr>\n",
       "    <tr>\n",
       "      <th>6</th>\n",
       "      <td>I sure would like to see a resurrection of a u...</td>\n",
       "      <td>positive</td>\n",
       "    </tr>\n",
       "    <tr>\n",
       "      <th>7</th>\n",
       "      <td>This show was an amazing, fresh &amp; innovative i...</td>\n",
       "      <td>negative</td>\n",
       "    </tr>\n",
       "    <tr>\n",
       "      <th>8</th>\n",
       "      <td>Encouraged by the positive comments about this...</td>\n",
       "      <td>negative</td>\n",
       "    </tr>\n",
       "    <tr>\n",
       "      <th>9</th>\n",
       "      <td>If you like original gut wrenching laughter yo...</td>\n",
       "      <td>positive</td>\n",
       "    </tr>\n",
       "  </tbody>\n",
       "</table>\n",
       "</div>"
      ],
      "text/plain": [
       "                                              review sentiment\n",
       "0  One of the other reviewers has mentioned that ...  positive\n",
       "1  A wonderful little production. <br /><br />The...  positive\n",
       "2  I thought this was a wonderful way to spend ti...  positive\n",
       "3  Basically there's a family where a little boy ...  negative\n",
       "4  Petter Mattei's \"Love in the Time of Money\" is...  positive\n",
       "5  Probably my all-time favorite movie, a story o...  positive\n",
       "6  I sure would like to see a resurrection of a u...  positive\n",
       "7  This show was an amazing, fresh & innovative i...  negative\n",
       "8  Encouraged by the positive comments about this...  negative\n",
       "9  If you like original gut wrenching laughter yo...  positive"
      ]
     },
     "execution_count": 5,
     "metadata": {},
     "output_type": "execute_result"
    }
   ],
   "source": [
    "## load the data\n",
    "data = pd.read_csv(\"IMDB Dataset.csv\")\n",
    "data.head(10)"
   ]
  },
  {
   "cell_type": "code",
   "execution_count": 6,
   "id": "aa98f86d",
   "metadata": {},
   "outputs": [
    {
     "data": {
      "text/plain": [
       "(50000, 2)"
      ]
     },
     "execution_count": 6,
     "metadata": {},
     "output_type": "execute_result"
    }
   ],
   "source": [
    "data.shape"
   ]
  },
  {
   "cell_type": "code",
   "execution_count": 7,
   "id": "0fa8604f",
   "metadata": {},
   "outputs": [
    {
     "data": {
      "text/plain": [
       "positive    25000\n",
       "negative    25000\n",
       "Name: sentiment, dtype: int64"
      ]
     },
     "execution_count": 7,
     "metadata": {},
     "output_type": "execute_result"
    }
   ],
   "source": [
    "#sentiment count\n",
    "data['sentiment'].value_counts()"
   ]
  },
  {
   "cell_type": "code",
   "execution_count": 8,
   "id": "c1cb31d6",
   "metadata": {},
   "outputs": [
    {
     "data": {
      "image/png": "[encoded data removed]",
      "text/plain": [
       "<Figure size 640x480 with 1 Axes>"
      ]
     },
     "metadata": {},
     "output_type": "display_data"
    }
   ],
   "source": [
    "counts = data['sentiment'].value_counts().plot.bar(color=['cyan', 'gray'])\n",
    "plt.title('Sentiment Counts')\n",
    "plt.xlabel('Sentiment')\n",
    "plt.ylabel('Count')\n",
    "plt.show()"
   ]
  },
  {
   "cell_type": "code",
   "execution_count": 9,
   "id": "d35685dc",
   "metadata": {},
   "outputs": [
    {
     "data": {
      "text/html": [
       "<div>\n",
       "<style scoped>\n",
       "    .dataframe tbody tr th:only-of-type {\n",
       "        vertical-align: middle;\n",
       "    }\n",
       "\n",
       "    .dataframe tbody tr th {\n",
       "        vertical-align: top;\n",
       "    }\n",
       "\n",
       "    .dataframe thead th {\n",
       "        text-align: right;\n",
       "    }\n",
       "</style>\n",
       "<table border=\"1\" class=\"dataframe\">\n",
       "  <thead>\n",
       "    <tr style=\"text-align: right;\">\n",
       "      <th></th>\n",
       "      <th>review</th>\n",
       "      <th>sentiment</th>\n",
       "    </tr>\n",
       "  </thead>\n",
       "  <tbody>\n",
       "    <tr>\n",
       "      <th>count</th>\n",
       "      <td>50000</td>\n",
       "      <td>50000</td>\n",
       "    </tr>\n",
       "    <tr>\n",
       "      <th>unique</th>\n",
       "      <td>49582</td>\n",
       "      <td>2</td>\n",
       "    </tr>\n",
       "    <tr>\n",
       "      <th>top</th>\n",
       "      <td>Loved today's show!!! It was a variety and not...</td>\n",
       "      <td>positive</td>\n",
       "    </tr>\n",
       "    <tr>\n",
       "      <th>freq</th>\n",
       "      <td>5</td>\n",
       "      <td>25000</td>\n",
       "    </tr>\n",
       "  </tbody>\n",
       "</table>\n",
       "</div>"
      ],
      "text/plain": [
       "                                                   review sentiment\n",
       "count                                               50000     50000\n",
       "unique                                              49582         2\n",
       "top     Loved today's show!!! It was a variety and not...  positive\n",
       "freq                                                    5     25000"
      ]
     },
     "execution_count": 9,
     "metadata": {},
     "output_type": "execute_result"
    }
   ],
   "source": [
    "data.describe()"
   ]
  },
  {
   "cell_type": "code",
   "execution_count": 10,
   "id": "6a572092",
   "metadata": {},
   "outputs": [],
   "source": [
    "# Split the dataset into training and test sets\n",
    "X = data['review']  # Text data\n",
    "y = data['sentiment']  # Sentiment labels (0 for negative, 1 for positive)\n",
    "X_train, X_test, y_train, y_test = train_test_split(X, y, test_size=0.2, random_state=42)"
   ]
  },
  {
   "cell_type": "code",
   "execution_count": 11,
   "id": "46a7dc72",
   "metadata": {},
   "outputs": [],
   "source": [
    "#text normalization\n",
    "import nltk\n",
    "from nltk.corpus import stopwords\n",
    "from nltk.tokenize import word_tokenize\n",
    "from nltk.stem import WordNetLemmatizer\n",
    "import string"
   ]
  },
  {
   "cell_type": "code",
   "execution_count": 12,
   "id": "106bd86c",
   "metadata": {},
   "outputs": [],
   "source": [
    "def text_normalize(text):\n",
    "    # Tokenize text into words\n",
    "    tokens = word_tokenize(text)\n",
    "\n",
    "    # Remove punctuation\n",
    "    tokens = [word for word in tokens if word not in string.punctuation]\n",
    "\n",
    "    # Convert to lowercase\n",
    "    tokens = [word.lower() for word in tokens]\n",
    "\n",
    "    # Remove stopwords\n",
    "    stop_words = set(stopwords.words('english'))\n",
    "    tokens = [word for word in tokens if word not in stop_words]\n",
    "\n",
    "    # Lemmatize words\n",
    "    lemmatizer = WordNetLemmatizer()\n",
    "    tokens = [lemmatizer.lemmatize(word) for word in tokens]\n",
    "\n",
    "    # Join tokens back into normalized text\n",
    "    normalized_text = ' '.join(tokens)\n",
    "    \n",
    "    return normalized_text\n",
    "\n",
    "data['review'] = data['review'].apply(text_normalize)"
   ]
  },
  {
   "cell_type": "code",
   "execution_count": 13,
   "id": "34ec11ec",
   "metadata": {},
   "outputs": [],
   "source": [
    "from bs4 import BeautifulSoup\n",
    "import re"
   ]
  },
  {
   "cell_type": "code",
   "execution_count": 14,
   "id": "d33bd4e4",
   "metadata": {},
   "outputs": [],
   "source": [
    "def remove_html_noise(text):\n",
    "    # Remove HTML tags using BeautifulSoup\n",
    "    soup = BeautifulSoup(text, \"html.parser\")\n",
    "    text = soup.get_text()\n",
    "\n",
    "    # Remove noise text using regular expressions\n",
    "    text = re.sub(r'\\n', ' ', text)  # Replace newline characters with a space\n",
    "    text = re.sub(r'\\s+', ' ', text)  # Replace multiple spaces with a single space\n",
    "    text = re.sub(r'\\'s', '', text)  # Remove possessive apostrophes\n",
    "    text = re.sub(r'\\d+', '', text)  # Remove digits\n",
    "    text = re.sub(r'[^\\x00-\\x7F]+', '', text)  # Remove non-ASCII characters\n",
    "    text = re.sub(r'\\s+', ' ', text)  # Replace multiple spaces with a single space\n",
    "    # Remove special characters using regular expressions\n",
    "    text = re.sub(r'[^A-Za-z0-9\\s]+', '', text)  # Remove all non-alphanumeric characters except spaces\n",
    "\n",
    "    return text\n",
    "\n",
    "# Apply text normalization to the 'review' column in the dataframe\n",
    "data['review'] = data['review'].apply(remove_html_noise)"
   ]
  },
  {
   "cell_type": "code",
   "execution_count": 15,
   "id": "a2115ae2",
   "metadata": {},
   "outputs": [
    {
     "data": {
      "text/html": [
       "<div>\n",
       "<style scoped>\n",
       "    .dataframe tbody tr th:only-of-type {\n",
       "        vertical-align: middle;\n",
       "    }\n",
       "\n",
       "    .dataframe tbody tr th {\n",
       "        vertical-align: top;\n",
       "    }\n",
       "\n",
       "    .dataframe thead th {\n",
       "        text-align: right;\n",
       "    }\n",
       "</style>\n",
       "<table border=\"1\" class=\"dataframe\">\n",
       "  <thead>\n",
       "    <tr style=\"text-align: right;\">\n",
       "      <th></th>\n",
       "      <th>review</th>\n",
       "      <th>sentiment</th>\n",
       "    </tr>\n",
       "  </thead>\n",
       "  <tbody>\n",
       "    <tr>\n",
       "      <th>0</th>\n",
       "      <td>one reviewer mentioned watching oz episode ll ...</td>\n",
       "      <td>positive</td>\n",
       "    </tr>\n",
       "    <tr>\n",
       "      <th>1</th>\n",
       "      <td>wonderful little production br br filming tech...</td>\n",
       "      <td>positive</td>\n",
       "    </tr>\n",
       "    <tr>\n",
       "      <th>2</th>\n",
       "      <td>thought wonderful way spend time hot summer we...</td>\n",
       "      <td>positive</td>\n",
       "    </tr>\n",
       "    <tr>\n",
       "      <th>3</th>\n",
       "      <td>basically family little boy jake think zombie ...</td>\n",
       "      <td>negative</td>\n",
       "    </tr>\n",
       "    <tr>\n",
       "      <th>4</th>\n",
       "      <td>petter mattei  love time money  visually stunn...</td>\n",
       "      <td>positive</td>\n",
       "    </tr>\n",
       "    <tr>\n",
       "      <th>5</th>\n",
       "      <td>probably alltime favorite movie story selfless...</td>\n",
       "      <td>positive</td>\n",
       "    </tr>\n",
       "    <tr>\n",
       "      <th>6</th>\n",
       "      <td>sure would like see resurrection dated seahunt...</td>\n",
       "      <td>positive</td>\n",
       "    </tr>\n",
       "    <tr>\n",
       "      <th>7</th>\n",
       "      <td>show amazing fresh innovative idea first aired...</td>\n",
       "      <td>negative</td>\n",
       "    </tr>\n",
       "    <tr>\n",
       "      <th>8</th>\n",
       "      <td>encouraged positive comment film looking forwa...</td>\n",
       "      <td>negative</td>\n",
       "    </tr>\n",
       "    <tr>\n",
       "      <th>9</th>\n",
       "      <td>like original gut wrenching laughter like movi...</td>\n",
       "      <td>positive</td>\n",
       "    </tr>\n",
       "  </tbody>\n",
       "</table>\n",
       "</div>"
      ],
      "text/plain": [
       "                                              review sentiment\n",
       "0  one reviewer mentioned watching oz episode ll ...  positive\n",
       "1  wonderful little production br br filming tech...  positive\n",
       "2  thought wonderful way spend time hot summer we...  positive\n",
       "3  basically family little boy jake think zombie ...  negative\n",
       "4  petter mattei  love time money  visually stunn...  positive\n",
       "5  probably alltime favorite movie story selfless...  positive\n",
       "6  sure would like see resurrection dated seahunt...  positive\n",
       "7  show amazing fresh innovative idea first aired...  negative\n",
       "8  encouraged positive comment film looking forwa...  negative\n",
       "9  like original gut wrenching laughter like movi...  positive"
      ]
     },
     "execution_count": 15,
     "metadata": {},
     "output_type": "execute_result"
    }
   ],
   "source": [
    "data.head(10)"
   ]
  },
  {
   "cell_type": "code",
   "execution_count": 16,
   "id": "28da7f31",
   "metadata": {},
   "outputs": [
    {
     "name": "stdout",
     "output_type": "stream",
     "text": [
      "one reviewer mentioned watching oz episode ll hooked right exactly happened me br br first thing struck oz brutality unflinching scene violence set right word go trust show faint hearted timid show pull punch regard drug sex violence hardcore classic use word br br called oz nickname given oswald maximum security state penitentary focus mainly emerald city experimental section prison cell glass front face inwards privacy high agenda em city home many  aryan muslim gangsta latino christian italian irish  scuffle death stare dodgy dealing shady agreement never far away br br would say main appeal show due fact go show would nt dare forget pretty picture painted mainstream audience forget charm forget romance  oz nt mess around first episode ever saw struck nasty surreal could nt say ready watched developed taste oz got accustomed high level graphic violence violence injustice crooked guard ll sold nickel inmate ll kill order get away well mannered middle class inmate turned prison bitch due lack street skill prison experience watching oz may become comfortable uncomfortable viewing  thats get touch darker side\n"
     ]
    }
   ],
   "source": [
    "print(data['review'][0])"
   ]
  },
  {
   "cell_type": "code",
   "execution_count": 17,
   "id": "bb1e480b",
   "metadata": {},
   "outputs": [],
   "source": [
    "from nltk.stem import PorterStemmer\n",
    "from nltk.tokenize import word_tokenize"
   ]
  },
  {
   "cell_type": "code",
   "execution_count": 18,
   "id": "78f2e236",
   "metadata": {},
   "outputs": [],
   "source": [
    "# Create an instance of PorterStemmer\n",
    "stemmer = PorterStemmer()\n",
    "\n",
    "# Define a function for text stemming\n",
    "def text_stemming(text):\n",
    "    # Tokenize the text into words\n",
    "    words = word_tokenize(text)\n",
    "\n",
    "    # Perform stemming on each word in the text\n",
    "    stemmed_words = [stemmer.stem(word) for word in words]\n",
    "\n",
    "    # Join the stemmed words back into a single string\n",
    "    stemmed_text = ' '.join(stemmed_words)\n",
    "\n",
    "    return stemmed_text\n",
    "\n",
    "# Apply text stemming to the 'review' column in the dataframe\n",
    "data['review'] = data['review'].apply(text_stemming)"
   ]
  },
  {
   "cell_type": "code",
   "execution_count": 19,
   "id": "611ba308",
   "metadata": {},
   "outputs": [],
   "source": [
    "from nltk.corpus import stopwords\n",
    "from nltk.tokenize import word_tokenize"
   ]
  },
  {
   "cell_type": "code",
   "execution_count": 20,
   "id": "f6e7e39c",
   "metadata": {},
   "outputs": [],
   "source": [
    "# Load the NLTK stop words\n",
    "stop_words = set(stopwords.words('english'))\n",
    "\n",
    "# Define a function for stop word removal\n",
    "def remove_stopwords(text):\n",
    "    # Tokenize the text into words\n",
    "    words = word_tokenize(text)\n",
    "\n",
    "    # Remove stop words from the list of words\n",
    "    filtered_words = [word for word in words if word.lower() not in stop_words]\n",
    "\n",
    "    # Join the filtered words back into a single string\n",
    "    filtered_text = ' '.join(filtered_words)\n",
    "\n",
    "    return filtered_text\n",
    "\n",
    "# Apply stop word removal to the 'clean_review' column in the dataframe\n",
    "data['review'] = data['review'].apply(remove_stopwords)"
   ]
  },
  {
   "cell_type": "code",
   "execution_count": 21,
   "id": "0c8effa8",
   "metadata": {},
   "outputs": [
    {
     "name": "stdout",
     "output_type": "stream",
     "text": [
      "{'as', 'above', 'weren', 'further', 'himself', 'where', 'from', 'all', 'until', 'other', 'no', 'in', 'its', 'but', 'out', \"hadn't\", 'itself', 'hasn', 'through', 'to', 'doing', 'and', \"mightn't\", \"that'll\", 'the', 'being', 'more', 'me', 'myself', 'did', 'mustn', 'needn', 'we', 'about', \"wouldn't\", \"hasn't\", 'once', \"didn't\", 'will', \"needn't\", 'they', 'whom', 'down', 'of', 'are', 're', \"should've\", 'wasn', 'themselves', 'nor', 'or', 'than', 'theirs', 'hadn', 'it', 'them', 'very', 'having', 'during', 'my', 'there', 'now', 'been', 'should', 'at', 'with', 'again', 'haven', 'didn', 'which', 'most', 'up', 'a', \"you're\", 'against', \"isn't\", 'why', 's', 'hers', 'ours', 'yours', 'wouldn', 'so', 'does', 'what', 'while', 'ourselves', \"mustn't\", 'shan', 'by', 'over', 'have', 'yourselves', 'this', 'aren', 'is', 'not', \"wasn't\", 'an', 'am', 'here', \"shouldn't\", 'on', 'can', \"haven't\", 'him', 'some', \"weren't\", 'ain', \"aren't\", 'his', 'who', 'o', 'couldn', 'same', 'our', 'if', 'off', 'after', 'he', 'between', 'her', 'both', 'under', 'ma', \"couldn't\", \"it's\", 'you', 'yourself', 'she', 'has', 'these', 'because', 'before', 'were', 'below', 'don', \"won't\", 'herself', \"don't\", 'isn', 'd', 'doesn', \"she's\", 'how', 'their', 'that', 'y', 'any', 'own', 'those', 'only', 'when', 'm', 'be', \"you've\", 'into', 't', 've', \"you'll\", 'then', 'just', 'your', \"shan't\", 'll', 'few', 'had', 'shouldn', 'do', 'each', 'too', 'i', 'was', \"doesn't\", 'mightn', 'such', 'for', \"you'd\", 'won'}\n"
     ]
    }
   ],
   "source": [
    "print(stop_words)"
   ]
  },
  {
   "cell_type": "code",
   "execution_count": 22,
   "id": "b97aa791",
   "metadata": {},
   "outputs": [],
   "source": [
    "# Create feature vectors for every sentence\n",
    "vectorizer = TfidfVectorizer(min_df=2, \n",
    "                             max_df=0.8, \n",
    "                             max_features=5000, \n",
    "                             sublinear_tf=True, \n",
    "                             use_idf=True, \n",
    "                             stop_words='english')\n",
    "data_vector = vectorizer.fit_transform(data['review'])"
   ]
  },
  {
   "cell_type": "code",
   "execution_count": 23,
   "id": "53d0f987",
   "metadata": {},
   "outputs": [],
   "source": [
    "# Convert text data into numerical features using bag-of-words representation\n",
    "vectorizer = CountVectorizer(stop_words='english', max_features=5000)\n",
    "X_train_vectorized = vectorizer.fit_transform(X_train)\n",
    "X_test_vectorized = vectorizer.transform(X_test)"
   ]
  },
  {
   "cell_type": "code",
   "execution_count": 24,
   "id": "0f72dbfd",
   "metadata": {},
   "outputs": [
    {
     "name": "stdout",
     "output_type": "stream",
     "text": [
      "Bag of Words-Train:   (0, 2490)\t1\n",
      "  (0, 318)\t1\n",
      "  (0, 1745)\t1\n",
      "  (0, 3890)\t1\n",
      "  (0, 2808)\t1\n",
      "  (0, 1909)\t1\n",
      "  (0, 2820)\t1\n",
      "  (0, 2901)\t1\n",
      "  (0, 4198)\t1\n",
      "  (0, 4491)\t1\n",
      "  (0, 1294)\t1\n",
      "  (0, 766)\t1\n",
      "  (0, 2664)\t1\n",
      "  (0, 1233)\t1\n",
      "  (0, 4782)\t1\n",
      "  (0, 2276)\t1\n",
      "  (0, 685)\t1\n",
      "  (0, 2062)\t1\n",
      "  (0, 2469)\t2\n",
      "  (0, 385)\t1\n",
      "  (0, 4977)\t1\n",
      "  (0, 1305)\t2\n",
      "  (0, 2055)\t1\n",
      "  (0, 449)\t1\n",
      "  (0, 4551)\t1\n",
      "  :\t:\n",
      "  (39999, 3582)\t1\n",
      "  (39999, 2168)\t1\n",
      "  (39999, 1352)\t1\n",
      "  (39999, 2705)\t1\n",
      "  (39999, 4653)\t1\n",
      "  (39999, 3519)\t1\n",
      "  (39999, 744)\t1\n",
      "  (39999, 3607)\t1\n",
      "  (39999, 1189)\t1\n",
      "  (39999, 611)\t1\n",
      "  (39999, 2432)\t1\n",
      "  (39999, 4575)\t1\n",
      "  (39999, 113)\t3\n",
      "  (39999, 1572)\t1\n",
      "  (39999, 1266)\t1\n",
      "  (39999, 2133)\t1\n",
      "  (39999, 2345)\t1\n",
      "  (39999, 3422)\t1\n",
      "  (39999, 3853)\t1\n",
      "  (39999, 1614)\t1\n",
      "  (39999, 1301)\t1\n",
      "  (39999, 2812)\t1\n",
      "  (39999, 4460)\t1\n",
      "  (39999, 1846)\t1\n",
      "  (39999, 1684)\t1\n",
      "Bag of Words-Test:   (0, 2)\t1\n",
      "  (0, 264)\t1\n",
      "  (0, 393)\t2\n",
      "  (0, 466)\t1\n",
      "  (0, 477)\t1\n",
      "  (0, 524)\t1\n",
      "  (0, 525)\t1\n",
      "  (0, 543)\t1\n",
      "  (0, 600)\t1\n",
      "  (0, 682)\t1\n",
      "  (0, 756)\t1\n",
      "  (0, 1243)\t1\n",
      "  (0, 1257)\t1\n",
      "  (0, 1282)\t1\n",
      "  (0, 1509)\t1\n",
      "  (0, 1573)\t3\n",
      "  (0, 1699)\t1\n",
      "  (0, 1932)\t1\n",
      "  (0, 1941)\t1\n",
      "  (0, 2016)\t1\n",
      "  (0, 2078)\t1\n",
      "  (0, 2214)\t1\n",
      "  (0, 2353)\t2\n",
      "  (0, 2421)\t1\n",
      "  (0, 2469)\t2\n",
      "  :\t:\n",
      "  (9999, 1869)\t1\n",
      "  (9999, 1924)\t1\n",
      "  (9999, 1960)\t3\n",
      "  (9999, 2209)\t1\n",
      "  (9999, 2353)\t2\n",
      "  (9999, 2639)\t3\n",
      "  (9999, 2664)\t2\n",
      "  (9999, 2758)\t1\n",
      "  (9999, 2964)\t1\n",
      "  (9999, 2965)\t1\n",
      "  (9999, 3133)\t1\n",
      "  (9999, 3248)\t1\n",
      "  (9999, 3592)\t3\n",
      "  (9999, 3636)\t1\n",
      "  (9999, 3661)\t1\n",
      "  (9999, 3860)\t2\n",
      "  (9999, 3870)\t1\n",
      "  (9999, 3908)\t2\n",
      "  (9999, 3918)\t1\n",
      "  (9999, 4259)\t1\n",
      "  (9999, 4491)\t1\n",
      "  (9999, 4498)\t1\n",
      "  (9999, 4547)\t1\n",
      "  (9999, 4763)\t1\n",
      "  (9999, 4987)\t1\n"
     ]
    }
   ],
   "source": [
    "print(\"Bag of Words-Train:\" ,X_train_vectorized)\n",
    "print(\"Bag of Words-Test:\" ,X_test_vectorized)"
   ]
  },
  {
   "cell_type": "code",
   "execution_count": 25,
   "id": "4227e30d",
   "metadata": {},
   "outputs": [],
   "source": [
    "y_train_tfidf =  y_train.replace({'positive': 1, 'negative': 0})\n",
    "y_test_tfidf =  y_test.replace({'positive': 1, 'negative': 0})"
   ]
  },
  {
   "cell_type": "code",
   "execution_count": 26,
   "id": "af82fe10",
   "metadata": {},
   "outputs": [],
   "source": [
    "#create a TfidfVectorizer object to converts a collection of text documents to a matrix of token counts\n",
    "vectorizer = TfidfVectorizer(max_features=10000, ngram_range=(1,3))     \n",
    "\n",
    "X_train_tfidf = vectorizer.fit_transform(X_train)\n",
    "X_test_tfidf = vectorizer.fit_transform(X_test)"
   ]
  },
  {
   "cell_type": "code",
   "execution_count": 27,
   "id": "ff810957",
   "metadata": {},
   "outputs": [
    {
     "name": "stdout",
     "output_type": "stream",
     "text": [
      "Train data - X shape: (40000, 10000)\n",
      "Test data - X shape: (10000, 10000)\n",
      "Train data - y shape: (40000,)\n",
      "Test data - y shape: (10000,)\n"
     ]
    }
   ],
   "source": [
    "# Print the shape of the feature matrix for train and test sets\n",
    "print(\"Train data - X shape:\", X_train_tfidf.shape)\n",
    "print(\"Test data - X shape:\", X_test_tfidf.shape)\n",
    "\n",
    "# Print the shape of the target labels for train and test sets\n",
    "print(\"Train data - y shape:\", y_train_tfidf.shape)\n",
    "print(\"Test data - y shape:\", y_test_tfidf.shape)"
   ]
  },
  {
   "cell_type": "code",
   "execution_count": 33,
   "id": "ede69c25",
   "metadata": {},
   "outputs": [],
   "source": [
    "from sklearn.feature_extraction.text import TfidfVectorizer\n",
    "tfidf = TfidfVectorizer(strip_accents=None,\n",
    "lowercase=True,\n",
    "use_idf=True,\n",
    "norm='l2',\n",
    "smooth_idf=True)\n",
    "y = data.sentiment.values\n",
    "X = tfidf.fit_transform(data.review)"
   ]
  },
  {
   "cell_type": "code",
   "execution_count": 37,
   "id": "ec98f531",
   "metadata": {},
   "outputs": [],
   "source": [
    "from sklearn.model_selection import train_test_split\n",
    "import pickle\n",
    "from sklearn.linear_model import LogisticRegressionCV\n",
    "X_train, X_test, y_train, y_test = train_test_split(X, y, random_state=1, test_size=0.5, shuffle=False)"
   ]
  },
  {
   "cell_type": "code",
   "execution_count": 28,
   "id": "a55bcdfa",
   "metadata": {},
   "outputs": [
    {
     "name": "stderr",
     "output_type": "stream",
     "text": [
      "2023-05-10 06:31:05.267757: I tensorflow/core/platform/cpu_feature_guard.cc:193] This TensorFlow binary is optimized with oneAPI Deep Neural Network Library (oneDNN) to use the following CPU instructions in performance-critical operations:  SSE4.1 SSE4.2\n",
      "To enable them in other operations, rebuild TensorFlow with the appropriate compiler flags.\n"
     ]
    }
   ],
   "source": [
    "from keras.preprocessing.text import Tokenizer\n",
    "#from keras.preprocessing.sequence import pad_sequences\n",
    "from keras.models import Sequential\n",
    "from keras.layers import Embedding, Conv1D, LSTM, Dense\n",
    "from sklearn.model_selection import train_test_split\n",
    "\n",
    "from sklearn.naive_bayes import MultinomialNB\n",
    "from sklearn.metrics import accuracy_score, confusion_matrix"
   ]
  },
  {
   "cell_type": "code",
   "execution_count": 38,
   "id": "e742fa98",
   "metadata": {},
   "outputs": [
    {
     "name": "stdout",
     "output_type": "stream",
     "text": [
      "Accuracy: 0.85816\n",
      "Confusion Matrix: [[10975  1499]\n",
      " [ 2047 10479]]\n"
     ]
    }
   ],
   "source": [
    "# Train the Naive Bayes classifier\n",
    "naive_bayes = MultinomialNB()\n",
    "naive_bayes.fit(X_train, y_train)\n",
    "\n",
    "# Predict on the test set\n",
    "y_pred = naive_bayes.predict(X_test)\n",
    "\n",
    "# Calculate accuracy and confusion matrix\n",
    "accuracy = accuracy_score(y_test, y_pred)\n",
    "confusion_mat = confusion_matrix(y_test, y_pred)\n",
    "\n",
    "print(\"Accuracy:\", accuracy)\n",
    "print(\"Confusion Matrix:\", confusion_mat)"
   ]
  },
  {
   "cell_type": "code",
   "execution_count": 40,
   "id": "e47e090f",
   "metadata": {},
   "outputs": [
    {
     "name": "stdout",
     "output_type": "stream",
     "text": [
      "Accuracy: 0.88716\n",
      "Confusion Matrix: [[10923  1551]\n",
      " [ 1270 11256]]\n"
     ]
    }
   ],
   "source": [
    "# Logistic Regression\n",
    "log_reg = LogisticRegression()\n",
    "log_reg.fit(X_train, y_train)\n",
    "\n",
    "# Predict on the test set\n",
    "y_pred = log_reg.predict(X_test)\n",
    "\n",
    "# Calculate accuracy and confusion matrix\n",
    "accuracy = accuracy_score(y_test, y_pred)\n",
    "confusion_mat = confusion_matrix(y_test, y_pred)\n",
    "\n",
    "print(\"Accuracy:\", accuracy)\n",
    "print(\"Confusion Matrix:\", confusion_mat)"
   ]
  },
  {
   "cell_type": "code",
   "execution_count": null,
   "id": "fdd72be5",
   "metadata": {},
   "outputs": [],
   "source": [
    "# SVM\n",
    "log_reg = LogisticRegression()\n",
    "log_reg.fit(X_train_tfidf, y_train_tfidf)\n",
    "\n",
    "# Predict on the test set\n",
    "y_pred = log_reg.predict(X_test_tfidf)\n",
    "\n",
    "# Calculate accuracy and confusion matrix\n",
    "accuracy = accuracy_score(y_test_tfidf, y_pred)\n",
    "confusion_mat = confusion_matrix(y_test_tfidf, y_pred)\n",
    "\n",
    "print(\"Accuracy:\", accuracy)\n",
    "print(\"Confusion Matrix:\", confusion_mat)"
   ]
  },
  {
   "cell_type": "code",
   "execution_count": 60,
   "id": "5482fb24",
   "metadata": {},
   "outputs": [],
   "source": [
    "import keras\n",
    "from keras.models import Sequential\n",
    "from keras.layers import Dense\n",
    "from keras.layers import Dropout"
   ]
  },
  {
   "cell_type": "code",
   "execution_count": 76,
   "id": "3dca6b80",
   "metadata": {},
   "outputs": [],
   "source": [
    "# Defining the NN model\n",
    "model = Sequential()\n",
    "model.add(Dense(20, input_shape=(X_train_tfidf.shape[1],), activation='relu'))\n",
    "model.add(Dropout(0.4))\n",
    "model.add(Dense(1, activation='sigmoid'))\n",
    "# compile network\n",
    "model.compile(loss='binary_crossentropy', optimizer='sgd', metrics=['accuracy'])\n",
    "\n",
    "# Train\n",
    "callbacks_list = [a\n",
    "    keras.callbacks.ModelCheckpoint(\n",
    "        filepath='model.h5',\n",
    "        monitor='val_loss', save_best_only=True, verbose=1),\n",
    "    keras.callbacks.EarlyStopping(monitor='val_loss', patience=10,verbose=1)\n",
    "]\n",
    "\n",
    "history = model.fit(\n",
    "    X_train_tfidf.toarray(), y_train_tfidf, \n",
    "    epochs=25, \n",
    "    verbose=1,\n",
    "    callbacks = callbacks_list,\n",
    "    validation_data=(X_test_tfidf.toarray(), y_test_tfidf))"
   ]
  },
  {
   "cell_type": "code",
   "execution_count": 71,
   "id": "add34e5f",
   "metadata": {},
   "outputs": [
    {
     "data": {
      "image/png": "[encoded data removed]",
      "text/plain": [
       "<Figure size 2000x500 with 2 Axes>"
      ]
     },
     "metadata": {},
     "output_type": "display_data"
    }
   ],
   "source": [
    "#Plots history of model training\n",
    "plt.rcParams[\"figure.figsize\"] = (20,5)\n",
    "fig, axs = plt.subplots(1, 2)\n",
    "\n",
    "axs[0].plot(history.history['loss'], color='red')\n",
    "axs[0].set_xlabel('Epoch')\n",
    "axs[0].set_ylabel('Loss')\n",
    "axs[0].set_title('Training Loss')\n",
    "\n",
    "axs[1].plot(history.history['accuracy'])\n",
    "axs[1].set_xlabel('Epoch')\n",
    "axs[1].set_ylabel('Accuracy')\n",
    "axs[1].set_title('Training Accuracy')\n",
    "\n",
    "plt.show()"
   ]
  },
  {
   "cell_type": "markdown",
   "id": "1a115a06",
   "metadata": {},
   "source": [
    "#### Let's try using the adam optimizer"
   ]
  },
  {
   "cell_type": "code",
   "execution_count": 80,
   "id": "7d4e7499",
   "metadata": {},
   "outputs": [],
   "source": [
    "# Defining the NN model\n",
    "model1 = Sequential()\n",
    "model1.add(Dense(20, input_shape=(X_train_tfidf.shape[1],), activation='relu'))\n",
    "model1.add(Dropout(0.4))\n",
    "model1.add(Dense(1, activation='sigmoid'))\n",
    "# compile network\n",
    "model1.compile(loss='binary_crossentropy', optimizer='adam', metrics=['accuracy'])\n",
    "\n",
    "# Train\n",
    "callbacks_list1 = [\n",
    "    keras.callbacks.ModelCheckpoint(\n",
    "        filepath='model1.h5',\n",
    "        monitor='val_loss', save_best_only=True, verbose=1),\n",
    "    keras.callbacks.EarlyStopping(monitor='val_loss', patience=10,verbose=1)\n",
    "]\n",
    "\n",
    "history1 = model1.fit(\n",
    "    X_train_tfidf.toarray(), y_train_tfidf, \n",
    "    epochs=25, \n",
    "    verbose=1,\n",
    "    callbacks = callbacks_list1,\n",
    "    validation_data=(X_test_tfidf.toarray(), y_test_tfidf))"
   ]
  },
  {
   "cell_type": "code",
   "execution_count": 86,
   "id": "d1a99902",
   "metadata": {},
   "outputs": [
    {
     "data": {
      "image/png": "[encoded data removed]",
      "text/plain": [
       "<Figure size 2000x500 with 2 Axes>"
      ]
     },
     "metadata": {},
     "output_type": "display_data"
    }
   ],
   "source": [
    "#Plots history of model training\n",
    "plt.rcParams[\"figure.figsize\"] = (20,5)\n",
    "fig, axs = plt.subplots(1, 2)\n",
    "\n",
    "axs[0].plot(history.history['loss'], color='green')\n",
    "axs[0].set_xlabel('Epoch')\n",
    "axs[0].set_ylabel('Loss')\n",
    "axs[0].set_title('Training Loss')\n",
    "\n",
    "axs[1].plot(history.history['accuracy'],color='gray')\n",
    "axs[1].set_xlabel('Epoch')\n",
    "axs[1].set_ylabel('Accuracy')\n",
    "axs[1].set_title('Training Accuracy')\n",
    "\n",
    "plt.show()"
   ]
  },
  {
   "cell_type": "markdown",
   "id": "2140e791",
   "metadata": {},
   "source": [
    "### As it can be observed that 'adam' optimizer gives really good accuracy (98%) than 'sgd' optimizer (84%)."
   ]
  },
  {
   "cell_type": "code",
   "execution_count": 2,
   "id": "f4e5c414",
   "metadata": {},
   "outputs": [
    {
     "name": "stderr",
     "output_type": "stream",
     "text": [
      "Some weights of the model checkpoint at bert-base-uncased were not used when initializing BertForSequenceClassification: ['cls.seq_relationship.weight', 'cls.predictions.transform.dense.bias', 'cls.predictions.bias', 'cls.seq_relationship.bias', 'cls.predictions.transform.dense.weight', 'cls.predictions.decoder.weight', 'cls.predictions.transform.LayerNorm.weight', 'cls.predictions.transform.LayerNorm.bias']\n",
      "- This IS expected if you are initializing BertForSequenceClassification from the checkpoint of a model trained on another task or with another architecture (e.g. initializing a BertForSequenceClassification model from a BertForPreTraining model).\n",
      "- This IS NOT expected if you are initializing BertForSequenceClassification from the checkpoint of a model that you expect to be exactly identical (initializing a BertForSequenceClassification model from a BertForSequenceClassification model).\n",
      "Some weights of BertForSequenceClassification were not initialized from the model checkpoint at bert-base-uncased and are newly initialized: ['classifier.bias', 'classifier.weight']\n",
      "You should probably TRAIN this model on a down-stream task to be able to use it for predictions and inference.\n"
     ]
    },
    {
     "ename": "NameError",
     "evalue": "name 'y_train' is not defined",
     "output_type": "error",
     "traceback": [
      "\u001b[0;31m---------------------------------------------------------------------------\u001b[0m",
      "\u001b[0;31mNameError\u001b[0m                                 Traceback (most recent call last)",
      "Cell \u001b[0;32mIn[2], line 11\u001b[0m\n\u001b[1;32m      7\u001b[0m model \u001b[38;5;241m=\u001b[39m BertForSequenceClassification\u001b[38;5;241m.\u001b[39mfrom_pretrained(\u001b[38;5;124m'\u001b[39m\u001b[38;5;124mbert-base-uncased\u001b[39m\u001b[38;5;124m'\u001b[39m)\n\u001b[1;32m      9\u001b[0m \u001b[38;5;66;03m# Tokenize the input text data\u001b[39;00m\n\u001b[1;32m     10\u001b[0m train_tokens \u001b[38;5;241m=\u001b[39m tokenizer\u001b[38;5;241m.\u001b[39mbatch_encode_plus(\n\u001b[0;32m---> 11\u001b[0m     \u001b[43my_train\u001b[49m[\u001b[38;5;124m'\u001b[39m\u001b[38;5;124mreviews\u001b[39m\u001b[38;5;124m'\u001b[39m], \n\u001b[1;32m     12\u001b[0m     max_length\u001b[38;5;241m=\u001b[39m\u001b[38;5;241m512\u001b[39m, \n\u001b[1;32m     13\u001b[0m     padding\u001b[38;5;241m=\u001b[39m\u001b[38;5;124m'\u001b[39m\u001b[38;5;124mmax_length\u001b[39m\u001b[38;5;124m'\u001b[39m, \n\u001b[1;32m     14\u001b[0m     truncation\u001b[38;5;241m=\u001b[39m\u001b[38;5;28;01mTrue\u001b[39;00m\n\u001b[1;32m     15\u001b[0m )\n\u001b[1;32m     16\u001b[0m test_tokens \u001b[38;5;241m=\u001b[39m tokenizer\u001b[38;5;241m.\u001b[39mbatch_encode_plus(\n\u001b[1;32m     17\u001b[0m     y_test[\u001b[38;5;124m'\u001b[39m\u001b[38;5;124mreviews\u001b[39m\u001b[38;5;124m'\u001b[39m], \n\u001b[1;32m     18\u001b[0m     max_length\u001b[38;5;241m=\u001b[39m\u001b[38;5;241m512\u001b[39m, \n\u001b[1;32m     19\u001b[0m     padding\u001b[38;5;241m=\u001b[39m\u001b[38;5;124m'\u001b[39m\u001b[38;5;124mmax_length\u001b[39m\u001b[38;5;124m'\u001b[39m, \n\u001b[1;32m     20\u001b[0m     truncation\u001b[38;5;241m=\u001b[39m\u001b[38;5;28;01mTrue\u001b[39;00m\n\u001b[1;32m     21\u001b[0m )\n\u001b[1;32m     23\u001b[0m \u001b[38;5;66;03m# Convert the tokenized inputs into tensors\u001b[39;00m\n",
      "\u001b[0;31mNameError\u001b[0m: name 'y_train' is not defined"
     ]
    }
   ],
   "source": [
    "import torch\n",
    "from transformers import BertTokenizer, BertForSequenceClassification\n",
    "from sklearn.metrics import accuracy_score, confusion_matrix\n",
    "\n",
    "# Load the BERT tokenizer and model\n",
    "tokenizer = BertTokenizer.from_pretrained('bert-base-uncased')\n",
    "model = BertForSequenceClassification.from_pretrained('bert-base-uncased')\n",
    "\n",
    "# Tokenize the input text data\n",
    "train_tokens = tokenizer.batch_encode_plus(\n",
    "    y_train['reviews'], \n",
    "    max_length=512, \n",
    "    padding='max_length', \n",
    "    truncation=True\n",
    ")\n",
    "test_tokens = tokenizer.batch_encode_plus(\n",
    "    y_test['reviews'], \n",
    "    max_length=512, \n",
    "    padding='max_length', \n",
    "    truncation=True\n",
    ")\n",
    "\n",
    "# Convert the tokenized inputs into tensors\n",
    "train_inputs = torch.tensor(train_tokens['input_ids'])\n",
    "test_inputs = torch.tensor(test_tokens['input_ids'])\n",
    "\n",
    "train_masks = torch.tensor(train_tokens['attention_mask'])\n",
    "test_masks = torch.tensor(test_tokens['attention_mask'])\n",
    "\n",
    "train_labels = torch.tensor(train_data['sentiments'].values)\n",
    "test_labels = torch.tensor(test_data['sentiments'].values)\n",
    "\n",
    "# Create the DataLoader objects\n",
    "from torch.utils.data import TensorDataset, DataLoader\n",
    "\n",
    "batch_size = 16\n",
    "\n",
    "train_data = TensorDataset(train_inputs, train_masks, train_labels)\n",
    "train_sampler = RandomSampler(train_data)\n",
    "train_loader = DataLoader(train_data, sampler=train_sampler, batch_size=batch_size)\n",
    "\n",
    "test_data = TensorDataset(test_inputs, test_masks, test_labels)\n",
    "test_sampler = SequentialSampler(test_data)\n",
    "test_loader = DataLoader(test_data, sampler=test_sampler, batch_size=batch_size)\n",
    "\n",
    "# Train the model\n",
    "from transformers import AdamW, get_linear_schedule_with_warmup\n",
    "\n",
    "optimizer = AdamW(model.parameters(), lr=2e-5, eps=1e-8)\n",
    "epochs = 4\n",
    "total_steps = len(train_loader) * epochs\n",
    "scheduler = get_linear_schedule_with_warmup(\n",
    "    optimizer, \n",
    "    num_warmup_steps=0, \n",
    "    num_training_steps=total_steps\n",
    ")\n",
    "\n",
    "device = torch.device('cuda' if torch.cuda.is_available() else 'cpu')\n",
    "model.to(device)\n",
    "\n",
    "for epoch in range(epochs):\n",
    "    model.train()\n",
    "    train_loss = 0\n",
    "    for batch in train_loader:\n",
    "        inputs, masks, labels = tuple(t.to(device) for t in batch)\n",
    "        model.zero_grad()\n",
    "        outputs = model(inputs, attention_mask=masks, labels=labels)\n",
    "        loss = outputs[0]\n",
    "        train_loss += loss.item()\n",
    "        loss.backward()\n",
    "        torch.nn.utils.clip_grad_norm_(model.parameters(), 1.0)\n",
    "        optimizer.step()\n",
    "        scheduler.step()\n",
    "    \n",
    "    # Evaluate the model on the test set after each epoch\n",
    "    model.eval()\n",
    "    with torch.no_grad():\n",
    "        y_pred = []\n",
    "        y_true = []\n",
    "        for batch in test_loader:\n",
    "            inputs, masks, labels = tuple(t.to(device) for t in batch)\n",
    "            outputs = model(inputs, attention_mask=masks)\n",
    "            logits = outputs[0]\n",
    "            _, preds = torch.max(logits, dim=1)\n",
    "            y_pred.extend(preds.cpu().numpy().tolist())\n",
    "            y_true.extend(labels.cpu().numpy().tolist())\n",
    "        accuracy = accuracy_score(y_true, y_pred)\n",
    "        confusion_mat = confusion_matrix(y_true, y_pred)\n",
    "        print('Epoch: {:02d}, Accuracy: {:.2f}%, Confusion Matrix: \\n{}'.format(epoch+1, accuracy*100, confusion_mat))\n"
   ]
  },
  {
   "cell_type": "code",
   "execution_count": 48,
   "id": "b18f7747",
   "metadata": {},
   "outputs": [
    {
     "name": "stdout",
     "output_type": "stream",
     "text": [
      "Downloading data from https://storage.googleapis.com/tensorflow/tf-keras-datasets/imdb.npz\n",
      "17464789/17464789 [==============================] - 0s 0us/step\n",
      "20000 train sequences\n",
      "5000 val sequences\n",
      "25000 test sequences\n"
     ]
    }
   ],
   "source": [
    "from keras.datasets import imdb\n",
    "\n",
    "vocab_size = 5000 \n",
    "(X_train, y_train), (X_test, y_test) = imdb.load_data(num_words= vocab_size)\n",
    "\n",
    "X_train, X_val = X_train[:-5000], X_train[-5000:]\n",
    "y_train, y_val = y_train[:-5000], y_train[-5000:]\n",
    "\n",
    "print(len(X_train), 'train sequences')\n",
    "print(len(X_val), 'val sequences')\n",
    "print(len(X_test), 'test sequences')\n"
   ]
  },
  {
   "cell_type": "code",
   "execution_count": 54,
   "id": "b5205b99",
   "metadata": {},
   "outputs": [
    {
     "name": "stdout",
     "output_type": "stream",
     "text": [
      "X_train shape: (20000, 500)\n",
      "X_val shape: (5000, 500)\n",
      "X_test shape: (25000, 500)\n"
     ]
    }
   ],
   "source": [
    "from tensorflow.keras.preprocessing.sequence import pad_sequences\n",
    "\n",
    "\n",
    "maximum_sequence_length = 500 # maximum length of all review sequences\n",
    "\n",
    "X_train = pad_sequences(X_train, padding= 'post', maxlen= maximum_sequence_length)\n",
    "X_val = pad_sequences(X_val, padding= 'post', maxlen= maximum_sequence_length)\n",
    "X_test = pad_sequences(X_test, padding= 'post', maxlen= maximum_sequence_length)\n",
    "\n",
    "print('X_train shape:', X_train.shape) # (n_samples, n_timesteps)\n",
    "print('X_val shape:', X_val.shape)\n",
    "print('X_test shape:', X_test.shape)"
   ]
  },
  {
   "cell_type": "code",
   "execution_count": 58,
   "id": "4312fb4d",
   "metadata": {},
   "outputs": [],
   "source": [
    "import numpy as np\n",
    "from keras.models import Sequential\n",
    "from keras.layers import Embedding, Dropout, Conv1D, GlobalMaxPooling1D, Dense\n",
    "from keras.wrappers.scikit_learn import KerasClassifier\n",
    "from sklearn.model_selection import ParameterGrid\n",
    "from keras.callbacks import EarlyStopping\n",
    "\n",
    "embedding_dim = 16\n",
    "\n",
    "def create_model(filters = 64, kernel_size = 3, strides=1, units = 256, \n",
    "                 optimizer='adam', rate = 0.25, kernel_initializer ='glorot_uniform'):\n",
    "    model = Sequential()\n",
    "    # Embedding layer\n",
    "    model.add(Embedding(vocab_size, embedding_dim, input_length= maximum_sequence_length))\n",
    "    # Convolutional Layer(s)\n",
    "    model.add(Dropout(rate))\n",
    "    model.add(Conv1D(filters = filters, kernel_size = kernel_size, strides= strides, \n",
    "                     padding='same', activation= 'relu'))\n",
    "    model.add(GlobalMaxPooling1D())\n",
    "    # Dense layer(s)\n",
    "    model.add(Dense(units = units, activation= 'relu', kernel_initializer= kernel_initializer))\n",
    "    model.add(Dropout(rate))\n",
    "    # Output layer\n",
    "    model.add(Dense(1, activation= 'sigmoid'))\n",
    "    \n",
    "    # Compile the model\n",
    "    model.compile(loss='binary_crossentropy',\n",
    "                  optimizer= optimizer,\n",
    "                  metrics=['accuracy'])\n",
    "    return model\n",
    "# Build the model\n",
    "model = KerasClassifier(build_fn= create_model)"
   ]
  },
  {
   "cell_type": "code",
   "execution_count": 64,
   "id": "4c122211",
   "metadata": {},
   "outputs": [
    {
     "name": "stdout",
     "output_type": "stream",
     "text": [
      "{'batch_size': 64, 'epochs': 5, 'filters': 128, 'kernel_initializer': 'TruncatedNormal', 'kernel_size': 5, 'optimizer': 'adam', 'rate': 0.25, 'strides': 1, 'units': 128}\n",
      "Epoch 1/5\n",
      "313/313 [==============================] - 7s 23ms/step - loss: 0.5797 - accuracy: 0.6562 - val_loss: 0.3799 - val_accuracy: 0.8286\n",
      "Epoch 2/5\n",
      "313/313 [==============================] - 7s 22ms/step - loss: 0.3234 - accuracy: 0.8613 - val_loss: 0.2964 - val_accuracy: 0.8734\n",
      "Epoch 2: early stopping\n",
      "+-+-+-+-+-+-+-+-+-+-+-+-+-+-+-+-+-+-+-+-+-+-+-+-+-+-+-+-+-+-+-+-+-+-+-+-+-+-+-+-+-+-+-+-+-+-+-+-+-+-\n",
      "{'batch_size': 64, 'epochs': 5, 'filters': 128, 'kernel_initializer': 'TruncatedNormal', 'kernel_size': 5, 'optimizer': 'adam', 'rate': 0.25, 'strides': 1, 'units': 512}\n",
      "Epoch 1/5\n",
      "313/313 [==============================] - 7s 22ms/step - loss: 0.5407 - accuracy: 0.6870 - val_loss: 0.3499 - val_accuracy: 0.8482\n",
      "Epoch 2/5\n",
      "313/313 [==============================] - 7s 22ms/step - loss: 0.2935 - accuracy: 0.8760 - val_loss: 0.2691 - val_accuracy: 0.8918\n",
      "Epoch 2: early stopping\n",
      "+-+-+-+-+-+-+-+-+-+-+-+-+-+-+-+-+-+-+-+-+-+-+-+-+-+-+-+-+-+-+-+-+-+-+-+-+-+-+-+-+-+-+-+-+-+-+-+-+-+-\n",
      "Training with parameters:\n",
      "batch_size\n"
     ]
    },
    {
     "ename": "TypeError",
     "evalue": "'KerasClassifier' object is not callable",
     "output_type": "error",
     "traceback": [
      "\u001b[0;31m---------------------------------------------------------------------------\u001b[0m",
      "\u001b[0;31mTypeError\u001b[0m                                 Traceback (most recent call last)",
      "Cell \u001b[0;32mIn[64], line 42\u001b[0m\n\u001b[1;32m     40\u001b[0m \u001b[38;5;28mprint\u001b[39m(\u001b[38;5;124m\"\u001b[39m\u001b[38;5;124mTraining with parameters:\u001b[39m\u001b[38;5;124m\"\u001b[39m)\n\u001b[1;32m     41\u001b[0m \u001b[38;5;28mprint\u001b[39m(p)\n\u001b[0;32m---> 42\u001b[0m model \u001b[38;5;241m=\u001b[39m \u001b[43mmodel\u001b[49m\u001b[43m(\u001b[49m\u001b[43mp\u001b[49m\u001b[43m)\u001b[49m\n\u001b[1;32m     43\u001b[0m history \u001b[38;5;241m=\u001b[39m model\u001b[38;5;241m.\u001b[39mfit(X_train, y_train, validation_data\u001b[38;5;241m=\u001b[39m(X_test, y_test), epochs\u001b[38;5;241m=\u001b[39mp[\u001b[38;5;124m'\u001b[39m\u001b[38;5;124mepochs\u001b[39m\u001b[38;5;124m'\u001b[39m], batch_size\u001b[38;5;241m=\u001b[39mp[\u001b[38;5;124m'\u001b[39m\u001b[38;5;124mbatch_size\u001b[39m\u001b[38;5;124m'\u001b[39m], callbacks\u001b[38;5;241m=\u001b[39m[early_stop])\n\u001b[1;32m     44\u001b[0m score \u001b[38;5;241m=\u001b[39m model\u001b[38;5;241m.\u001b[39mevaluate(X_test, y_test, verbose\u001b[38;5;241m=\u001b[39m\u001b[38;5;241m0\u001b[39m)[\u001b[38;5;241m1\u001b[39m]\n",
      "\u001b[0;31mTypeError\u001b[0m: 'KerasClassifier' object is not callable"
     ]
    }
   ],
   "source": [
    "# Set the hyperparameters\n",
    "filters = [128] #[64, 128, 256]\n",
    "kernel_size = [5] #[3, 5, 7]\n",
    "strides= [1] # [1, 2, 5]\n",
    "Dense_units = [128, 512]\n",
    "kernel_initializer = ['TruncatedNormal'] #['zero', 'glorot_uniform', 'glorot_normal','TruncatedNormal']\n",
    "rate_dropouts = [0.25] #[0.1, 0.25, 0.5]\n",
    "optimizers = ['adam'] #['adam','rmsprop']\n",
    "epochs = [5]\n",
    "batches = [64] #[32, 64, 128]\n",
    "# ----------------------------------------------\n",
    "# Exhaustive Grid Search\n",
    "param_grid = dict(optimizer= optimizers, epochs= epochs, batch_size= batches,\n",
    "                  filters = filters, kernel_size = kernel_size, strides = strides, \n",
    "                  units = Dense_units, kernel_initializer= kernel_initializer, rate = rate_dropouts)\n",
    "\n",
    "grid = ParameterGrid(param_grid)\n",
    "param_sets = list(grid)\n",
    "\n",
    "param_scores = []\n",
    "for params in grid:\n",
    "\n",
    "    print(params)\n",
    "    model.set_params(**params)\n",
    "\n",
    "    earlystopper = EarlyStopping(monitor='val_accuracy', patience= 0, verbose=1)\n",
    "    \n",
    "    history = model.fit(X_train, y_train,\n",
    "                        shuffle= True,\n",
    "                        validation_data=(X_val, y_val),\n",
    "                        callbacks= [earlystopper])\n",
    "\n",
    "    param_score = history.history['val_accuracy']\n",
    "    param_scores.append(param_score[-1])\n",
    "    print('+-'*50) \n",
    "    \n",
    "    \n",
    "param_scores = []\n",
    "for p in params:\n",
    "    print(\"Training with parameters:\")\n",
    "    print(p)\n",
    "    model = model(p)\n",
    "    history = model.fit(X_train, y_train, validation_data=(X_test, y_test), epochs=p['epochs'], batch_size=p['batch_size'], callbacks=[early_stop])\n",
    "    score = model.evaluate(X_test, y_test, verbose=0)[1]\n",
    "    param_scores.append(score)\n",
    "    print('+-'*50) \n",
    "\n",
    "print('param_scores:', param_scores)\n",
    "# Choose best parameters\n",
    "best_score_index = np.argmax(np.array(param_scores))\n",
    "print(\"best score:\", param_scores[best_score_index])\n",
    "print(\"best parameters:\", params[best_score_index])\n"
   ]
  },
  {
   "cell_type": "code",
   "execution_count": 61,
   "id": "5ae68909",
   "metadata": {},
   "outputs": [
    {
     "ename": "ValueError",
     "evalue": "attempt to get argmax of an empty sequence",
     "output_type": "error",
     "traceback": [
      "\u001b[0;31m---------------------------------------------------------------------------\u001b[0m",
      "\u001b[0;31mValueError\u001b[0m                                Traceback (most recent call last)",
      "Cell \u001b[0;32mIn[61], line 2\u001b[0m\n\u001b[1;32m      1\u001b[0m \u001b[38;5;66;03m# Choose best parameters\u001b[39;00m\n\u001b[0;32m----> 2\u001b[0m p \u001b[38;5;241m=\u001b[39m \u001b[43mnp\u001b[49m\u001b[38;5;241;43m.\u001b[39;49m\u001b[43margmax\u001b[49m\u001b[43m(\u001b[49m\u001b[43mnp\u001b[49m\u001b[38;5;241;43m.\u001b[39;49m\u001b[43marray\u001b[49m\u001b[43m(\u001b[49m\u001b[43mparam_scores\u001b[49m\u001b[43m)\u001b[49m\u001b[43m)\u001b[49m\n\u001b[1;32m      3\u001b[0m best_params \u001b[38;5;241m=\u001b[39m param_sets[p]\n\u001b[1;32m      4\u001b[0m \u001b[38;5;28mprint\u001b[39m(\u001b[38;5;124m\"\u001b[39m\u001b[38;5;124mbest parameter set\u001b[39m\u001b[38;5;124m\"\u001b[39m, best_params)\n",
      "File \u001b[0;32m<__array_function__ internals>:200\u001b[0m, in \u001b[0;36margmax\u001b[0;34m(*args, **kwargs)\u001b[0m\n",
      "File \u001b[0;32m~/anaconda3/lib/python3.10/site-packages/numpy/core/fromnumeric.py:1242\u001b[0m, in \u001b[0;36margmax\u001b[0;34m(a, axis, out, keepdims)\u001b[0m\n\u001b[1;32m   1155\u001b[0m \u001b[38;5;124;03m\"\"\"\u001b[39;00m\n\u001b[1;32m   1156\u001b[0m \u001b[38;5;124;03mReturns the indices of the maximum values along an axis.\u001b[39;00m\n\u001b[1;32m   1157\u001b[0m \n\u001b[0;32m   (...)\u001b[0m\n\u001b[1;32m   1239\u001b[0m \u001b[38;5;124;03m(2, 1, 4)\u001b[39;00m\n\u001b[1;32m   1240\u001b[0m \u001b[38;5;124;03m\"\"\"\u001b[39;00m\n\u001b[1;32m   1241\u001b[0m kwds \u001b[38;5;241m=\u001b[39m {\u001b[38;5;124m'\u001b[39m\u001b[38;5;124mkeepdims\u001b[39m\u001b[38;5;124m'\u001b[39m: keepdims} \u001b[38;5;28;01mif\u001b[39;00m keepdims \u001b[38;5;129;01mis\u001b[39;00m \u001b[38;5;129;01mnot\u001b[39;00m np\u001b[38;5;241m.\u001b[39m_NoValue \u001b[38;5;28;01melse\u001b[39;00m {}\n\u001b[0;32m-> 1242\u001b[0m \u001b[38;5;28;01mreturn\u001b[39;00m \u001b[43m_wrapfunc\u001b[49m\u001b[43m(\u001b[49m\u001b[43ma\u001b[49m\u001b[43m,\u001b[49m\u001b[43m \u001b[49m\u001b[38;5;124;43m'\u001b[39;49m\u001b[38;5;124;43margmax\u001b[39;49m\u001b[38;5;124;43m'\u001b[39;49m\u001b[43m,\u001b[49m\u001b[43m \u001b[49m\u001b[43maxis\u001b[49m\u001b[38;5;241;43m=\u001b[39;49m\u001b[43maxis\u001b[49m\u001b[43m,\u001b[49m\u001b[43m \u001b[49m\u001b[43mout\u001b[49m\u001b[38;5;241;43m=\u001b[39;49m\u001b[43mout\u001b[49m\u001b[43m,\u001b[49m\u001b[43m \u001b[49m\u001b[38;5;241;43m*\u001b[39;49m\u001b[38;5;241;43m*\u001b[39;49m\u001b[43mkwds\u001b[49m\u001b[43m)\u001b[49m\n",
      "File \u001b[0;32m~/anaconda3/lib/python3.10/site-packages/numpy/core/fromnumeric.py:57\u001b[0m, in \u001b[0;36m_wrapfunc\u001b[0;34m(obj, method, *args, **kwds)\u001b[0m\n\u001b[1;32m     54\u001b[0m     \u001b[38;5;28;01mreturn\u001b[39;00m _wrapit(obj, method, \u001b[38;5;241m*\u001b[39margs, \u001b[38;5;241m*\u001b[39m\u001b[38;5;241m*\u001b[39mkwds)\n\u001b[1;32m     56\u001b[0m \u001b[38;5;28;01mtry\u001b[39;00m:\n\u001b[0;32m---> 57\u001b[0m     \u001b[38;5;28;01mreturn\u001b[39;00m \u001b[43mbound\u001b[49m\u001b[43m(\u001b[49m\u001b[38;5;241;43m*\u001b[39;49m\u001b[43margs\u001b[49m\u001b[43m,\u001b[49m\u001b[43m \u001b[49m\u001b[38;5;241;43m*\u001b[39;49m\u001b[38;5;241;43m*\u001b[39;49m\u001b[43mkwds\u001b[49m\u001b[43m)\u001b[49m\n\u001b[1;32m     58\u001b[0m \u001b[38;5;28;01mexcept\u001b[39;00m \u001b[38;5;167;01mTypeError\u001b[39;00m:\n\u001b[1;32m     59\u001b[0m     \u001b[38;5;66;03m# A TypeError occurs if the object does have such a method in its\u001b[39;00m\n\u001b[1;32m     60\u001b[0m     \u001b[38;5;66;03m# class, but its signature is not identical to that of NumPy's. This\u001b[39;00m\n\u001b[0;32m   (...)\u001b[0m\n\u001b[1;32m     64\u001b[0m     \u001b[38;5;66;03m# Call _wrapit from within the except clause to ensure a potential\u001b[39;00m\n\u001b[1;32m     65\u001b[0m     \u001b[38;5;66;03m# exception has a traceback chain.\u001b[39;00m\n\u001b[1;32m     66\u001b[0m     \u001b[38;5;28;01mreturn\u001b[39;00m _wrapit(obj, method, \u001b[38;5;241m*\u001b[39margs, \u001b[38;5;241m*\u001b[39m\u001b[38;5;241m*\u001b[39mkwds)\n",
      "\u001b[0;31mValueError\u001b[0m: attempt to get argmax of an empty sequence"
     ]
    }
   ],
   "source": [
    "# Choose best parameters\n",
    "p = np.argmax(np.array(param_scores))\n",
    "best_params = param_sets[p]\n",
    "print(\"best parameter set\", best_params)"
   ]
  },
  {
   "cell_type": "code",
   "execution_count": null,
   "id": "9795967a",
   "metadata": {},
   "outputs": [],
   "source": [
    "max_features = 20000\n",
    "maxlen = 80  # cut texts after this number of words (among top max_features most common words)\n",
    "batch_size = 200"
   ]
  },
  {
   "cell_type": "code",
   "execution_count": 71,
   "id": "cdba099f",
   "metadata": {},
   "outputs": [
    {
     "name": "stdout",
     "output_type": "stream",
     "text": [
      "Build model...\n"
     ]
    }
   ],
   "source": [
    "print('Build model...')\n",
    "model = Sequential()\n",
    "model.add(Embedding(20000, 128))\n",
    "model.add(LSTM(128, dropout=0.2, recurrent_dropout=0.2)) # 128 = dimensionality of the output space\n",
    "model.add(Dense(1, activation='sigmoid')) \n",
    "\n",
    "# try using different optimizers and different optimizer configs\n",
    "model.compile(loss='binary_crossentropy',\n",
    "              optimizer='adam',\n",
    "              metrics=['accuracy'])"
   ]
  },
  {
   "cell_type": "code",
   "execution_count": 72,
   "id": "a0d9dc17",
   "metadata": {},
   "outputs": [
    {
     "name": "stdout",
     "output_type": "stream",
     "text": [
      "Train...\n",
      "Epoch 1/3\n",
      "100/100 [==============================] - 120s 1s/step - loss: 0.6928 - accuracy: 0.5017 - val_loss: 0.6919 - val_accuracy: 0.5070\n",
      "Epoch 2/3\n",
      "100/100 [==============================] - 111s 1s/step - loss: 0.6869 - accuracy: 0.5185 - val_loss: 0.6917 - val_accuracy: 0.5044\n",
      "Epoch 3/3\n",
      "100/100 [==============================] - 109s 1s/step - loss: 0.6729 - accuracy: 0.5276 - val_loss: 0.6877 - val_accuracy: 0.5140\n"
     ]
    },
    {
     "data": {
      "text/plain": [
       "<keras.callbacks.History at 0x7fe82e7fbb50>"
      ]
     },
     "execution_count": 72,
     "metadata": {},
     "output_type": "execute_result"
    }
   ],
   "source": [
    "print('Train...')\n",
    "model.fit(X_train, y_train,\n",
    "          batch_size=200,\n",
    "          epochs=3,\n",
    "          validation_data=(X_test, y_test))"
   ]
  },
  {
   "cell_type": "code",
   "execution_count": 73,
   "id": "7b577cde",
   "metadata": {},
   "outputs": [
    {
     "name": "stdout",
     "output_type": "stream",
     "text": [
      "125/125 [==============================] - 31s 248ms/step - loss: 0.6877 - accuracy: 0.5140\n",
      "Test score: 0.6877120137214661\n",
      "Test accuracy: 0.5139999985694885\n"
     ]
    }
   ],
   "source": [
    "score, acc = model.evaluate(X_test, y_test, batch_size=200)\n",
    "\n",
    "print('Test score:', score)\n",
    "print('Test accuracy:', acc)"
   ]
  },
  {
   "cell_type": "code",
   "execution_count": null,
   "id": "f8858f8d",
   "metadata": {},
   "outputs": [],
   "source": []
  },
  {
   "cell_type": "code",
   "execution_count": 76,
   "id": "1c31633c",
   "metadata": {},
   "outputs": [
    {
     "name": "stdout",
     "output_type": "stream",
     "text": [
      "Python implementation: CPython\n",
      "Python version       : 3.10.10\n",
      "IPython version      : 8.10.0\n",
      "\n",
      "numpy       : 1.22.3\n",
      "pandas      : 1.5.3\n",
      "torch       : 2.0.0\n",
      "transformers: 4.28.1\n",
      "\n"
     ]
    }
   ],
   "source": [
    "%reload_ext watermark\n",
    "%watermark -v -p numpy,pandas,torch,transformers"
   ]
  },
  {
   "cell_type": "code",
   "execution_count": 77,
   "id": "cf2c038f",
   "metadata": {},
   "outputs": [
    {
     "data": {
      "text/plain": [
       "device(type='cpu')"
      ]
     },
     "execution_count": 77,
     "metadata": {},
     "output_type": "execute_result"
    }
   ],
   "source": [
    "\n",
    "import transformers\n",
    "from transformers import BertModel, BertTokenizer, AdamW, get_linear_schedule_with_warmup\n",
    "import torch\n",
    "\n",
    "import numpy as np\n",
    "import pandas as pd\n",
    "import seaborn as sns\n",
    "from pylab import rcParams\n",
    "import matplotlib.pyplot as plt\n",
    "from matplotlib import rc\n",
    "from sklearn.model_selection import train_test_split\n",
    "from sklearn.metrics import confusion_matrix, classification_report\n",
    "from collections import defaultdict\n",
    "from textwrap import wrap\n",
    "\n",
    "from torch import nn, optim\n",
    "from torch.utils.data import Dataset, DataLoader\n",
    "import torch.nn.functional as F\n",
    "\n",
    "%matplotlib inline\n",
    "%config InlineBackend.figure_format='retina'\n",
    "\n",
    "sns.set(style='whitegrid', palette='muted', font_scale=1.2)\n",
    "\n",
    "HAPPY_COLORS_PALETTE = [\"#01BEFE\", \"#FFDD00\", \"#FF7D00\", \"#FF006D\", \"#ADFF02\", \"#8F00FF\"]\n",
    "\n",
    "sns.set_palette(sns.color_palette(HAPPY_COLORS_PALETTE))\n",
    "\n",
    "rcParams['figure.figsize'] = 12, 8\n",
    "\n",
    "RANDOM_SEED = 42\n",
    "np.random.seed(RANDOM_SEED)\n",
    "torch.manual_seed(RANDOM_SEED)\n",
    "\n",
    "device = torch.device(\"cuda:0\" if torch.cuda.is_available() else \"cpu\")\n",
    "device"
   ]
  },
  {
   "cell_type": "code",
   "execution_count": 93,
   "id": "bba6a3bf",
   "metadata": {},
   "outputs": [],
   "source": [
    "def to_sentiment(rating):\n",
    "  rating = str(rating)\n",
    "  if rating == 'positive':\n",
    "    return 0\n",
    "  else: \n",
    "    return 1\n",
    "\n",
    "data['sentiment_score'] = data.sentiment.apply(to_sentiment)"
   ]
  },
  {
   "cell_type": "code",
   "execution_count": 78,
   "id": "8deabc44",
   "metadata": {},
   "outputs": [],
   "source": [
    "PRE_TRAINED_MODEL_NAME = 'bert-base-cased'"
   ]
  },
  {
   "cell_type": "code",
   "execution_count": 79,
   "id": "30af7722",
   "metadata": {},
   "outputs": [
    {
     "name": "stderr",
     "output_type": "stream",
     "text": [
      "Downloading (…)solve/main/vocab.txt: 100%|███| 213k/213k [00:00<00:00, 4.19MB/s]\n",
      "Downloading (…)okenizer_config.json: 100%|████| 29.0/29.0 [00:00<00:00, 354kB/s]\n",
      "Downloading (…)lve/main/config.json: 100%|█████| 570/570 [00:00<00:00, 6.15MB/s]\n"
     ]
    }
   ],
   "source": [
    "tokenizer = BertTokenizer.from_pretrained(PRE_TRAINED_MODEL_NAME)"
   ]
  },
  {
   "cell_type": "code",
   "execution_count": 81,
   "id": "9b728acb",
   "metadata": {},
   "outputs": [],
   "source": [
    "token_lens = []\n",
    "\n",
    "for txt in data.review:\n",
    "  tokens = tokenizer.encode(txt, max_length=512, truncation=True)\n",
    "  token_lens.append(len(tokens))"
   ]
  },
  {
   "cell_type": "code",
   "execution_count": 82,
   "id": "86a7c5b7",
   "metadata": {},
   "outputs": [
    {
     "data": {
      "image/png": "[encoded data removed]",
      "text/plain": [
       "<Figure size 1200x800 with 1 Axes>"
      ]
     },
     "metadata": {
      "image/png": {
       "height": 689,
       "width": 1032
      }
     },
     "output_type": "display_data"
    }
   ],
   "source": [
    "sns.distplot(token_lens)\n",
    "plt.xlim([0, 512]);\n",
    "plt.xlabel('Token count');\n",
    "     "
   ]
  },
  {
   "cell_type": "code",
   "execution_count": 83,
   "id": "cde675e6",
   "metadata": {},
   "outputs": [],
   "source": [
    "MAX_LEN = 400"
   ]
  },
  {
   "cell_type": "code",
   "execution_count": 106,
   "id": "4c00ab43",
   "metadata": {},
   "outputs": [],
   "source": [
    "class MovieReviewDataset(Dataset):\n",
    "\n",
    "    def __init__(self, reviews, targets, tokenizer, max_len):\n",
    "        self.reviews = reviews\n",
    "        self.targets = targets\n",
    "        self.tokenizer = tokenizer\n",
    "        self.max_len = max_len\n",
    "\n",
    "    def __len__(self):\n",
    "        return len(self.reviews)\n",
    "\n",
    "    def __getitem__(self, item):\n",
    "        review = str(self.reviews[item])\n",
    "        target = self.targets[item]\n",
    "\n",
    "        encoding = self.tokenizer.encode_plus(\n",
    "          review,\n",
    "          add_special_tokens=True,\n",
    "          max_length=self.max_len,\n",
    "          return_token_type_ids=False,\n",
    "          pad_to_max_length=True,\n",
    "          return_attention_mask=True,\n",
    "          return_tensors='pt',\n",
    "          truncation = True\n",
    "        )\n",
    "\n",
    "        return {\n",
    "          'review_text': review,\n",
    "          'input_ids': encoding['input_ids'].flatten(),\n",
    "          'attention_mask': encoding['attention_mask'].flatten(),\n",
    "          'targets': torch.tensor(target, dtype=torch.long)\n",
    "        }\n",
    "\n"
   ]
  },
  {
   "cell_type": "code",
   "execution_count": 107,
   "id": "b0d4a996",
   "metadata": {},
   "outputs": [],
   "source": [
    "data_train, data_test = train_test_split(data, test_size=0.2, random_state=RANDOM_SEED)\n",
    "data_val, data_test = train_test_split(data_test, test_size=0.4, random_state=RANDOM_SEED)\n",
    "     "
   ]
  },
  {
   "cell_type": "code",
   "execution_count": 108,
   "id": "e9c99649",
   "metadata": {},
   "outputs": [
    {
     "data": {
      "text/plain": [
       "((40000, 3), (6000, 3), (4000, 3))"
      ]
     },
     "execution_count": 108,
     "metadata": {},
     "output_type": "execute_result"
    }
   ],
   "source": [
    "data_train.shape, data_val.shape, data_test.shape"
   ]
  },
  {
   "cell_type": "code",
   "execution_count": 109,
   "id": "e90ec956",
   "metadata": {},
   "outputs": [],
   "source": [
    "\n",
    "def create_data_loader(df, tokenizer, max_len, batch_size):\n",
    "    \n",
    "    ds = MovieReviewDataset(\n",
    "    reviews=df.review.to_numpy(),\n",
    "    targets=df.sentiment_score.to_numpy(),\n",
    "    tokenizer=tokenizer,\n",
    "    max_len=max_len\n",
    "    )\n",
    "\n",
    "    return DataLoader(\n",
    "    ds,\n",
    "    batch_size=batch_size,\n",
    "    num_workers=4\n",
    "    )"
   ]
  },
  {
   "cell_type": "code",
   "execution_count": 110,
   "id": "5f7b7e95",
   "metadata": {},
   "outputs": [],
   "source": [
    "BATCH_SIZE = 32\n",
    "\n",
    "train_data_loader = create_data_loader(data_train, tokenizer, MAX_LEN, BATCH_SIZE)\n",
    "val_data_loader = create_data_loader(data_val, tokenizer, MAX_LEN, BATCH_SIZE)\n",
    "test_data_loader = create_data_loader(data_test, tokenizer, MAX_LEN, BATCH_SIZE)"
   ]
  },
  {
   "cell_type": "code",
   "execution_count": null,
   "id": "ca951e8d",
   "metadata": {},
   "outputs": [
    {
     "name": "stderr",
     "output_type": "stream",
     "text": [
      "Traceback (most recent call last):\n",
      "  File \"<string>\", line 1, in <module>\n",
      "  File \"/Users/shivanipatel/anaconda3/lib/python3.10/multiprocessing/spawn.py\", line 116, in spawn_main\n",
      "    exitcode = _main(fd, parent_sentinel)\n",
      "  File \"/Users/shivanipatel/anaconda3/lib/python3.10/multiprocessing/spawn.py\", line 126, in _main\n",
      "    self = reduction.pickle.load(from_parent)\n",
      "AttributeError: Can't get attribute 'MovieReviewDataset' on <module '__main__' (built-in)>\n"
     ]
    }
   ],
   "source": [
    "data = next(iter(train_data_loader))\n",
    "data.keys()"
   ]
  },
  {
   "cell_type": "code",
   "execution_count": null,
   "id": "dcf3fefc",
   "metadata": {},
   "outputs": [],
   "source": [
    "print(data['input_ids'].shape)\n",
    "print(data['attention_mask'].shape)\n",
    "print(data['targets'].shape)"
   ]
  },
  {
   "cell_type": "code",
   "execution_count": null,
   "id": "6ec85359",
   "metadata": {},
   "outputs": [],
   "source": [
    "bert_model = BertModel.from_pretrained(PRE_TRAINED_MODEL_NAME)"
   ]
  },
  {
   "cell_type": "code",
   "execution_count": null,
   "id": "e5d8d3eb",
   "metadata": {},
   "outputs": [],
   "source": [
    "last_hidden_state, pooled_output = bert_model(\n",
    "  input_ids=encoding['input_ids'], \n",
    "  attention_mask=encoding['attention_mask']\n",
    ")"
   ]
  },
  {
   "cell_type": "code",
   "execution_count": null,
   "id": "9ecbafcb",
   "metadata": {},
   "outputs": [],
   "source": [
    "last_hidden_state.shape"
   ]
  },
  {
   "cell_type": "code",
   "execution_count": null,
   "id": "cfc6122a",
   "metadata": {},
   "outputs": [],
   "source": [
    "bert_model.config.hidden_size"
   ]
  }
 ],
 "metadata": {
  "kernelspec": {
   "display_name": "Python 3 (ipykernel)",
   "language": "python",
   "name": "python3"
  },
  "language_info": {
   "codemirror_mode": {
    "name": "ipython",
    "version": 3
   },
   "file_extension": ".py",
   "mimetype": "text/x-python",
   "name": "python",
   "nbconvert_exporter": "python",
   "pygments_lexer": "ipython3",
   "version": "3.10.10"
  }
 },
 "nbformat": 4,
 "nbformat_minor": 5
}
